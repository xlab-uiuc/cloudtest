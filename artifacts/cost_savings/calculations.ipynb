{
 "cells": [
  {
   "cell_type": "markdown",
   "metadata": {},
   "source": [
    "# Cost savings calculations"
   ]
  },
  {
   "cell_type": "code",
   "execution_count": 9,
   "metadata": {},
   "outputs": [],
   "source": [
    "import json\n",
    "\n",
    "\n",
    "projects = ['streamstone', 'orleans','identityazuretable', 'insights', 'durabletask']"
   ]
  },
  {
   "cell_type": "markdown",
   "metadata": {},
   "source": [
    "*Helper functions*"
   ]
  },
  {
   "cell_type": "code",
   "execution_count": 10,
   "metadata": {},
   "outputs": [],
   "source": [
    "# extract selected tests (tests interacting with the cloud) and discrepant tests\n",
    "def get_methods_from_file(file_path):\n",
    "\n",
    "    with open(file_path, \"r\") as f:\n",
    "        methods = f.read().splitlines()\n",
    "\n",
    "    return methods\n",
    "\n",
    "# open hash file\n",
    "def read_hash_file(project, commit_number):\n",
    "    \n",
    "    with open(f\"{project}/hashes_{commit_number}.json\", 'r') as f:\n",
    "        return json.load(f)"
   ]
  },
  {
   "cell_type": "markdown",
   "metadata": {},
   "source": [
    "*Identify discrepant and selected tests*"
   ]
  },
  {
   "cell_type": "code",
   "execution_count": 11,
   "metadata": {},
   "outputs": [],
   "source": [
    "def find_tests_with_methods(methods_json_path, desc_methods):\n",
    "\n",
    "    with open(methods_json_path, \"r\") as f:\n",
    "        json_data = json.load(f)\n",
    "\n",
    "    cloud_tests = []\n",
    "\n",
    "    for i in json_data.keys():\n",
    "        if not json_data[i] == []: # remove tests with no cloud APIs\n",
    "          cloud_tests.append(i)\n",
    "\n",
    "    tests_with_desc_methods = []\n",
    "    for key, value in json_data.items():\n",
    "        for method in desc_methods:\n",
    "            if method in value:\n",
    "                if not key in tests_with_desc_methods:\n",
    "                    tests_with_desc_methods.append(key)\n",
    "\n",
    "    return cloud_tests, tests_with_desc_methods\n",
    "\n",
    "\n",
    "methods_file_path = \"discrepant_apis.txt\"\n",
    "methods = get_methods_from_file(methods_file_path)\n",
    "discrepant_test = {}   # tests which make discrepant api calls\n",
    "selected_test = {}     # selected tests\n",
    "\n",
    "for j in projects:\n",
    "\n",
    "    methods_json_path = f\"projects_api_calls/{j}.json\"\n",
    "\n",
    "    all_tests, d_tests = find_tests_with_methods(methods_json_path, methods)\n",
    "\n",
    "    discrepant_test[j] = d_tests\n",
    "    selected_test[j] = all_tests"
   ]
  },
  {
   "cell_type": "markdown",
   "metadata": {},
   "source": [
    "## Total requests per project"
   ]
  },
  {
   "cell_type": "code",
   "execution_count": 12,
   "metadata": {},
   "outputs": [
    {
     "name": "stdout",
     "output_type": "stream",
     "text": [
      "Average total number of requests\n",
      "{\n",
      "    \"streamstone\": 590.0,\n",
      "    \"orleans\": 117904.8,\n",
      "    \"identityazuretable\": 9858.4,\n",
      "    \"insights\": 5249.0,\n",
      "    \"durabletask\": 79654.4\n",
      "}\n"
     ]
    }
   ],
   "source": [
    "# sum all apis by tests for all commits per project\n",
    "def sum_tests_requests(project):\n",
    "    \n",
    "    sum_per_commit = {}\n",
    "    for commit_number in range(5, 0, -1):\n",
    "        hash_file = read_hash_file(project, commit_number)\n",
    "        sum_per_commit[commit_number] = 0\n",
    "        for test in hash_file:\n",
    "            sum_per_commit[commit_number] += len(hash_file[test])\n",
    "\n",
    "    return sum_per_commit\n",
    "\n",
    "total_per_commit = {}\n",
    "for project in projects:\n",
    "    total_per_commit[project] = sum_tests_requests(project)\n",
    "\n",
    "\n",
    "avg_total_per_commit = {key: sum(value[commit] for commit in range(1, 6)) / 5 for key, value in total_per_commit.items()}\n",
    "\n",
    "print(\"Average total number of requests\")\n",
    "print(json.dumps(avg_total_per_commit, indent=4))"
   ]
  },
  {
   "cell_type": "markdown",
   "metadata": {},
   "source": [
    "## Policy 1"
   ]
  },
  {
   "cell_type": "code",
   "execution_count": 13,
   "metadata": {},
   "outputs": [
    {
     "name": "stdout",
     "output_type": "stream",
     "text": [
      "The average cost of policy 1 is:\n",
      "{\n",
      "  \"streamstone\": 0.0,\n",
      "  \"orleans\": 29.411476035939156,\n",
      "  \"identityazuretable\": 100.0,\n",
      "  \"insights\": 4.29000429000429,\n",
      "  \"durabletask\": 0.0\n",
      "}\n"
     ]
    }
   ],
   "source": [
    "cost_policy1 = {}\n",
    "\n",
    "for project in projects:\n",
    "    cost_policy1[project] = {}\n",
    "    for commit_number in range(5, 0, -1):\n",
    "        hash_file = read_hash_file(project, commit_number)\n",
    "        cost_policy1[project][commit_number] = {'cost' : 0}\n",
    "        for test in hash_file:\n",
    "            if test in discrepant_test[project]:\n",
    "                cost_policy1[project][commit_number]['cost'] += len(hash_file[test])\n",
    "\n",
    "avg_total_per_commit = {key: sum(value[commit] for commit in range(1, 5)) / 4 for key, value in total_per_commit.items()}\n",
    "avg_cost_policy1 = {key: 100*(sum(total_per_commit[key][commit] - value[commit]['cost'] for commit in range(1, 5)) / 4) / avg_total_per_commit[key] for key, value in cost_policy1.items()}\n",
    "\n",
    "print('The average cost of policy 1 is:')\n",
    "print(json.dumps(avg_cost_policy1, indent=2))"
   ]
  },
  {
   "cell_type": "markdown",
   "metadata": {},
   "source": [
    "## Policy 2"
   ]
  },
  {
   "cell_type": "code",
   "execution_count": 14,
   "metadata": {},
   "outputs": [
    {
     "name": "stdout",
     "output_type": "stream",
     "text": [
      "The average cost of policy 2 is:\n",
      "{\n",
      "  \"streamstone\": 99.15254237288136,\n",
      "  \"orleans\": 0.3548255636563035,\n",
      "  \"identityazuretable\": 0.3650005069451485,\n",
      "  \"insights\": 47.19004719004719,\n",
      "  \"durabletask\": 0.0\n",
      "}\n"
     ]
    }
   ],
   "source": [
    "# calculate policy 2 cost\n",
    "\n",
    "cost_policy2 = {}\n",
    "track_policy2_discrepant_tests = {}\n",
    "\n",
    "# populate 5th commit\n",
    "for project in projects:\n",
    "    cost_policy2[project] = {5: {'cost' : 0}}\n",
    "    hash_file = read_hash_file(project, 5)\n",
    "    for test in hash_file:\n",
    "        cost_policy2[project][5]['cost'] += len(hash_file[test])\n",
    "        \n",
    "for project in projects:\n",
    "    track_policy2_discrepant_tests[project] = {}\n",
    "    for commit_number in range(4, 0, -1):\n",
    "        hash_file1 = read_hash_file(project, commit_number+1)\n",
    "        hash_file2 = read_hash_file(project, commit_number)\n",
    "        cost_policy2[project][commit_number] = {'cost' : 0}\n",
    "        track_policy2_discrepant_tests[project][commit_number] = []\n",
    "        for test in hash_file2:\n",
    "            if test in hash_file1 and hash_file1[test] != hash_file2[test]:\n",
    "                track_policy2_discrepant_tests[project][commit_number].append(test)\n",
    "                cost_policy2[project][commit_number]['cost'] += len(hash_file2[test])\n",
    "            # Add discrepant test result cost\n",
    "            if project == 'streamstone' and test == 'When_disabled':\n",
    "                cost_policy2[project][commit_number]['cost'] += len(hash_file2[test])\n",
    "\n",
    "avg_total_per_commit = {key: sum(value[commit] for commit in range(1, 5)) / 4 for key, value in total_per_commit.items()}\n",
    "avg_cost_policy2 = {key: 100*(sum(total_per_commit[key][commit] - value[commit]['cost'] for commit in range(1, 5)) / 4) / avg_total_per_commit[key] for key, value in cost_policy2.items()}\n",
    "\n",
    "print('The average cost of policy 2 is:')\n",
    "print(json.dumps(avg_cost_policy2, indent=2))"
   ]
  },
  {
   "cell_type": "markdown",
   "metadata": {},
   "source": [
    "## Policy 3"
   ]
  },
  {
   "cell_type": "code",
   "execution_count": 15,
   "metadata": {},
   "outputs": [
    {
     "name": "stdout",
     "output_type": "stream",
     "text": [
      "The average cost of policy 3 is:\n",
      "{\n",
      "  \"streamstone\": 99.15254237288136,\n",
      "  \"orleans\": 29.57192632088777,\n",
      "  \"identityazuretable\": 100.0,\n",
      "  \"insights\": 47.19004719004719,\n",
      "  \"durabletask\": 0.0\n",
      "}\n"
     ]
    }
   ],
   "source": [
    "cost_policy3 = {}\n",
    "\n",
    "for project in projects:\n",
    "    cost_policy3[project] = {}\n",
    "    for commit_number in range(5, 0, -1):\n",
    "        hash_file = read_hash_file(project, commit_number)\n",
    "        cost_policy3[project][commit_number] = {'cost' : 0}\n",
    "        if commit_number != 5:\n",
    "            for test in hash_file:\n",
    "                if test in discrepant_test[project] and test in track_policy2_discrepant_tests[project][commit_number]:\n",
    "                    cost_policy3[project][commit_number]['cost'] += len(hash_file[test])\n",
    "                # Add discrepant test result cost\n",
    "                if project == 'streamstone' and test == 'When_disabled':\n",
    "                    cost_policy3[project][commit_number]['cost'] += len(hash_file[test])\n",
    "\n",
    "avg_total_per_commit = {key: sum(value[commit] for commit in range(1, 5)) / 4 for key, value in total_per_commit.items()}\n",
    "avg_cost_policy3 = {key: 100*(sum(total_per_commit[key][commit] - value[commit]['cost'] for commit in range(1, 5)) / 4) / avg_total_per_commit[key] for key, value in cost_policy3.items()}\n",
    "\n",
    "print('The average cost of policy 3 is:')\n",
    "print(json.dumps(avg_cost_policy3, indent=2))"
   ]
  }
 ],
 "metadata": {
  "kernelspec": {
   "display_name": "Python 3",
   "language": "python",
   "name": "python3"
  },
  "language_info": {
   "codemirror_mode": {
    "name": "ipython",
    "version": 3
   },
   "file_extension": ".py",
   "mimetype": "text/x-python",
   "name": "python",
   "nbconvert_exporter": "python",
   "pygments_lexer": "ipython3",
   "version": "3.8.2"
  }
 },
 "nbformat": 4,
 "nbformat_minor": 2
}
