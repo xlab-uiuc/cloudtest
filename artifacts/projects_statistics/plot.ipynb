{
 "cells": [
  {
   "cell_type": "markdown",
   "metadata": {},
   "source": [
    "# Statistics of studied projects"
   ]
  },
  {
   "cell_type": "code",
   "execution_count": 1,
   "metadata": {},
   "outputs": [],
   "source": [
    "import json\n",
    "from matplotlib import pyplot as plt\n",
    "import pandas as pd"
   ]
  },
  {
   "cell_type": "code",
   "execution_count": 2,
   "metadata": {},
   "outputs": [],
   "source": [
    "TOTAL_TESTS = 0\n",
    "DISCREPANT_TESTS = 0\n",
    "DISCREPANT_METHODS = []\n",
    "METHODS_COUNT = {}\n",
    "TEST_METHOD_MAP = {}\n",
    "DISCREPANT_TEST_METHOD_MAP = {}\n",
    "\n",
    "projects = ['alpakka', 'attachmentplugin', 'durabletask', 'identityazuretable', 'insights', 'ironpigeon',  'orleans_azure', 'orleans_aws', 'servicestack_dynamo', 'servicestack_s3', 'sleet_azure', 'sleet_s3', 'streamstone']"
   ]
  },
  {
   "cell_type": "markdown",
   "metadata": {},
   "source": [
    "*Parse the traffic of all projects in order to extract the total unique APIs and selected tests*"
   ]
  },
  {
   "cell_type": "code",
   "execution_count": 3,
   "metadata": {},
   "outputs": [
    {
     "name": "stdout",
     "output_type": "stream",
     "text": [
      "Project: alpakka\n",
      "Unique APIs: 6\n",
      "Total tests: 9\n",
      "\n",
      "Project: attachmentplugin\n",
      "Unique APIs: 7\n",
      "Total tests: 23\n",
      "\n",
      "Project: durabletask\n",
      "Unique APIs: 30\n",
      "Total tests: 101\n",
      "\n",
      "Project: identityazuretable\n",
      "Unique APIs: 6\n",
      "Total tests: 51\n",
      "\n",
      "Project: insights\n",
      "Unique APIs: 20\n",
      "Total tests: 171\n",
      "\n",
      "Project: ironpigeon\n",
      "Unique APIs: 8\n",
      "Total tests: 7\n",
      "\n",
      "Project: orleans_azure\n",
      "Unique APIs: 23\n",
      "Total tests: 189\n",
      "\n",
      "Project: orleans_aws\n",
      "Unique APIs: 13\n",
      "Total tests: 58\n",
      "\n",
      "Project: servicestack_dynamo\n",
      "Unique APIs: 12\n",
      "Total tests: 174\n",
      "\n",
      "Project: servicestack_s3\n",
      "Unique APIs: 3\n",
      "Total tests: 13\n",
      "\n",
      "Project: sleet_azure\n",
      "Unique APIs: 12\n",
      "Total tests: 11\n",
      "\n",
      "Project: sleet_s3\n",
      "Unique APIs: 9\n",
      "Total tests: 11\n",
      "\n",
      "Project: streamstone\n",
      "Unique APIs: 7\n",
      "Total tests: 75\n",
      "\n"
     ]
    }
   ],
   "source": [
    "# Collect all data from .json file, output METHODS_COUNT, TEST_METHOD_MAP, DISCREPANT_TEST_METHOD_MAP. \n",
    "\n",
    "def get_methods_from_file(file_path):\n",
    "    \n",
    "    with open(file_path, \"r\") as f:\n",
    "        methods = f.read().splitlines()\n",
    "\n",
    "    return methods\n",
    "\n",
    "\n",
    "\n",
    "def find_tests_with_methods(methods_json_path, methods):\n",
    "\n",
    "    global DISCREPANT_TESTS\n",
    "    global TOTAL_TESTS\n",
    "    global METHODS_COUNT\n",
    "    global TEST_METHOD_MAP\n",
    "    global DISCREPANT_METHODS\n",
    "    \n",
    "    with open(methods_json_path, \"r\") as f:\n",
    "        json_data = json.load(f)\n",
    "\n",
    "    tests = json_data.keys()\n",
    "\n",
    "    app_tests = 0\n",
    "    for i in tests:\n",
    "        if not json_data[i] == []: # remove tests with no cloud methods\n",
    "            app_tests += 1\n",
    "\n",
    "    tests_with_methods = []\n",
    "    test_methods_count = {}\n",
    "    discrepant_methods = []\n",
    "    test_methods_map = {}\n",
    "    for key, value in json_data.items():\n",
    "        for i in value:\n",
    "            if i == 'CreateQueue' or i == 'GetQueueUrl': #Skip SQS\n",
    "                continue\n",
    "            if i in test_methods_count:\n",
    "                test_methods_count[i] += 1\n",
    "            else:\n",
    "                test_methods_count[i] = 1\n",
    "        for method in methods:\n",
    "            if method in value:\n",
    "                if not method in discrepant_methods:\n",
    "                    discrepant_methods.append(method)\n",
    "                if not key in tests_with_methods:\n",
    "                    tests_with_methods.append(key)\n",
    "\n",
    "                if not method in DISCREPANT_METHODS:\n",
    "                    DISCREPANT_METHODS.append(method)\n",
    "                \n",
    "                if not key in TEST_METHOD_MAP:\n",
    "                    TEST_METHOD_MAP[key] = [method]\n",
    "                else:\n",
    "                    TEST_METHOD_MAP[key].append(method)\n",
    "\n",
    "                if not key in test_methods_map:\n",
    "                    test_methods_map[key] = [method]\n",
    "                else:\n",
    "                    test_methods_map[key].append(method)\n",
    "\n",
    "    for i in test_methods_count:\n",
    "        \n",
    "        if i in METHODS_COUNT:\n",
    "            METHODS_COUNT[i] += test_methods_count[i]\n",
    "        else:\n",
    "            METHODS_COUNT[i] = test_methods_count[i]\n",
    "\n",
    "    print(f'Unique APIs: {len(test_methods_count)}')\n",
    "    print(f'Total tests: {app_tests}\\n')\n",
    "\n",
    "    DISCREPANT_TESTS += len(tests_with_methods)\n",
    "    TOTAL_TESTS += app_tests\n",
    "    test_methods_count = {k: v for k, v in test_methods_count.items() if k in DISCREPANT_METHODS}\n",
    "    test_methods_count = {k: v for k, v in sorted(test_methods_count.items(), key=lambda item: item[1], reverse=True)}\n",
    "    for i in test_methods_count.keys():\n",
    "        if i in DISCREPANT_METHODS:\n",
    "            for j in test_methods_map.keys():\n",
    "                if i in test_methods_map[j]:\n",
    "                    test_methods_map[j].pop(test_methods_map[j].index(i))\n",
    "    return tests, tests_with_methods\n",
    "\n",
    "\n",
    "def sum_methods_if_test_exists(traffic_json_path, discrepant_test_names):\n",
    "  \n",
    "    with open(traffic_json_path, \"r\") as f:\n",
    "        traffic_data = json.load(f)\n",
    "\n",
    "    cost = {\n",
    "        \"PUT\": 0,\n",
    "        \"GET\": 0,\n",
    "        \"POST\": 0,\n",
    "        \"DELETE\": 0,\n",
    "        \"PATCH\": 0,\n",
    "        \"HEAD\": 0,\n",
    "        \"OTHER\": 0\n",
    "    }\n",
    "\n",
    "    for key, value in traffic_data.items():\n",
    "        \n",
    "        # run on cloud if discrepant test\n",
    "        if key in discrepant_test_names:\n",
    "            for request in cost:\n",
    "                for key in value.keys():\n",
    "                    cost[request] += value[key][request]\n",
    "\n",
    "    return cost\n",
    "\n",
    "\n",
    "def run_all_projects():\n",
    "\n",
    "    global DISCREPANT_TESTS\n",
    "    global TOTAL_TESTS\n",
    "\n",
    "    methods_file_path = \"discrepantApisEmulator.txt\"\n",
    "    methods = get_methods_from_file(methods_file_path)\n",
    "    \n",
    "    for j in projects:\n",
    "\n",
    "        methods_json_path = f\"application_sdk_methods/{j}.json\"\n",
    "\n",
    "        print(f'Project: {j}')\n",
    "        total_tests, discrepant_tests = find_tests_with_methods(methods_json_path, methods)\n",
    "        DISCREPANT_TEST_METHOD_MAP[j] = discrepant_tests\n",
    "\n",
    "\n",
    "run_all_projects()"
   ]
  },
  {
   "cell_type": "markdown",
   "metadata": {},
   "source": [
    "# Plot APIs frequency sorted by popularity"
   ]
  },
  {
   "cell_type": "code",
   "execution_count": 4,
   "metadata": {},
   "outputs": [],
   "source": [
    "TOTAL_TESTS = 0\n",
    "DISCREPANT_TESTS = 0\n",
    "DISCREPANT_METHODS = []\n",
    "METHODS_COUNT = {}\n",
    "TEST_METHOD_MAP = {}\n",
    "DISCREPANT_TEST_METHOD_MAP = {}\n",
    "\n",
    "projects = ['alpakka','orleans_azure','identityazuretable','ironpigeon','sleet','attachmentplugin', 'insights', 'durabletask', 'streamstone']"
   ]
  },
  {
   "cell_type": "code",
   "execution_count": 5,
   "metadata": {},
   "outputs": [],
   "source": [
    "# Print discrepant tests for each project\n",
    "DISCREPANT_TEST_METHOD_MAP\n",
    "for k in DISCREPANT_TEST_METHOD_MAP.keys():\n",
    "    print(f'{k}: {len(DISCREPANT_TEST_METHOD_MAP[k])}')"
   ]
  },
  {
   "cell_type": "code",
   "execution_count": 6,
   "metadata": {},
   "outputs": [],
   "source": [
    "METHODS_COUNT = {k: v for k, v in sorted(METHODS_COUNT.items(), key=lambda item: item[1], reverse=True)}\n",
    "while len(METHODS_COUNT) < 105:\n",
    "    METHODS_COUNT[f'place_holder_{len(METHODS_COUNT)}'] = 0\n",
    "df_pop = pd.DataFrame({\n",
    "    'API': METHODS_COUNT.keys(),\n",
    "    'Popularity': METHODS_COUNT.values(),\n",
    "})"
   ]
  },
  {
   "cell_type": "code",
   "execution_count": 7,
   "metadata": {},
   "outputs": [],
   "source": [
    "# Discrepant APIs sorted by popularity\n",
    "discrepand_method_sorted = []\n",
    "for method in METHODS_COUNT:\n",
    "    if method in DISCREPANT_METHODS:\n",
    "        discrepand_method_sorted.append((method, METHODS_COUNT[method]))"
   ]
  },
  {
   "cell_type": "code",
   "execution_count": 8,
   "metadata": {},
   "outputs": [],
   "source": [
    "# color array for bar graph\n",
    "bar_color = ['red' if x in DISCREPANT_METHODS else 'cornflowerblue' for x in METHODS_COUNT]\n",
    "colors = {'Discrepant API':'red', 'Non-discrepant API':'deepskyblue'}         \n",
    "labels = list(colors.keys())\n",
    "handles = [plt.Rectangle((0,0),1,1, color=colors[label]) for label in labels]"
   ]
  },
  {
   "cell_type": "code",
   "execution_count": 9,
   "metadata": {},
   "outputs": [
    {
     "name": "stderr",
     "output_type": "stream",
     "text": [
      "/tmp/ipykernel_24031/212721662.py:2: FutureWarning: \n",
      "\n",
      "Passing `palette` without assigning `hue` is deprecated and will be removed in v0.14.0. Assign the `x` variable to `hue` and set `legend=False` for the same effect.\n",
      "\n",
      "  pop_plt = sns.barplot(df_pop, x = df_pop.index, y = 'Popularity', palette=bar_color)\n"
     ]
    },
    {
     "data": {
      "image/png": "[encoded data removed]",
      "text/plain": [
       "<Figure size 800x400 with 1 Axes>"
      ]
     },
     "metadata": {},
     "output_type": "display_data"
    }
   ],
   "source": [
    "import seaborn as sns\n",
    "pop_plt = sns.barplot(df_pop, x = df_pop.index, y = 'Popularity', palette=bar_color)\n",
    "pop_plt.set_xlabel(\"Azure Storage API (Descending Order)\")\n",
    "pop_plt.set_ylabel(\"# Tests\")\n",
    "pop_plt.set_xticks(range(0, len(df_pop), 10))\n",
    "pop_plt.figure.set_size_inches(8, 4)\n",
    "# plt.rcParams.update({'font.size': 18, 'font.family': \"Times New Roman\"})"
   ]
  },
  {
   "cell_type": "code",
   "execution_count": null,
   "metadata": {},
   "outputs": [],
   "source": [
    "pop_plt.figure.savefig(\"azure_api_tests.pdf\", format='pdf', bbox_inches = \"tight\")"
   ]
  },
  {
   "cell_type": "markdown",
   "metadata": {},
   "source": [
    "# Fix discrepant APIs' impact on discrepant tests and results"
   ]
  },
  {
   "cell_type": "code",
   "execution_count": null,
   "metadata": {},
   "outputs": [],
   "source": [
    "# Rerun dta collection\n",
    "TOTAL_TESTS = 0\n",
    "DISCREPANT_TESTS = 0\n",
    "DISCREPANT_METHODS = []\n",
    "METHODS_COUNT = {}\n",
    "TEST_METHOD_MAP = {}\n",
    "DISCREPANT_TEST_METHOD_MAP = {}\n",
    "projects = ['alpakka','orleans_azure', 'durabletask', 'streamstone']\n",
    "run_all_projects()"
   ]
  },
  {
   "cell_type": "code",
   "execution_count": null,
   "metadata": {},
   "outputs": [],
   "source": [
    "# Extract fixed tests after fixing the top5 discrepant APIs\n",
    "fix_count = {k: v for k, v in METHODS_COUNT.items() if k in DISCREPANT_METHODS}\n",
    "fix_count = {k: v for k, v in sorted(fix_count.items(), key=lambda item: item[1], reverse=True)}\n",
    "fix_count_test_map = TEST_METHOD_MAP.copy()\n",
    "temp_dict = {}\n",
    "for test in fix_count_test_map.keys():\n",
    "    for method in fix_count_test_map[test]:\n",
    "        if method in DISCREPANT_METHODS:\n",
    "            temp_dict[test] = fix_count_test_map[test].copy()\n",
    "            continue\n",
    "fix_count_test_map = temp_dict\n",
    "\n",
    "\n",
    "fixed_tests = set() # Store fixed_test.\n",
    "counter = 0\n",
    "for i in fix_count.keys():\n",
    "    if i in DISCREPANT_METHODS:\n",
    "        for j in fix_count_test_map.keys():\n",
    "            while i in fix_count_test_map[j]:\n",
    "                fix_count_test_map[j].pop(fix_count_test_map[j].index(i))\n",
    "            if counter <= 5 and fix_count_test_map[j] == []:\n",
    "                fixed_tests.add(j)\n",
    "    counter += 1\n",
    "    if counter == 5: #break after 5 fixes\n",
    "        break\n"
   ]
  },
  {
   "cell_type": "code",
   "execution_count": null,
   "metadata": {},
   "outputs": [],
   "source": [
    "print(f\"Fixed discrepant tests after top 5 fixed: {len(fixed_tests)}\")\n",
    "print(f\"Total discrepant tests among the app in tableV excluding ServiceStac: {len(TEST_METHOD_MAP)}\")"
   ]
  },
  {
   "cell_type": "markdown",
   "metadata": {},
   "source": [
    "Take intersection of fixed tests and examined results"
   ]
  },
  {
   "cell_type": "code",
   "execution_count": null,
   "metadata": {},
   "outputs": [],
   "source": [
    "# Load discrepant results (Azure only)\n",
    "discrepant_result_dict = {\n",
    "  'durabletask': ['DeleteTaskHub',\n",
    "  'TestInstanceAndMessageDistribution',\n",
    "  'CreateTaskHub',\n",
    "  'MultiWorkerLeaseMovement',\n",
    "  'MonitorIdleTaskHubDisconnected',\n",
    "  'UpdateTaskHubJsonWithNewPartitionCount',\n",
    "  'MonitorIncreasingControlQueueLoadDisconnected',\n",
    "  'HelloWorldOrchestration_Inline',\n",
    "  'HelloWorldOrchestration_Activity',\n",
    "  'SequentialOrchestration',\n",
    "  'SequentialOrchestrationNoReplay',\n",
    "  'ParentOfSequentialOrchestration',\n",
    "  'LongRunningOrchestrator',\n",
    "  'GetAllOrchestrationStatuses',\n",
    "  'GetPaginatedStatuses',\n",
    "  'GetInstanceIdsByPrefix',\n",
    "  'NoInstancesGetAllOrchestrationStatusesNullContinuationToken',\n",
    "  'EventConversation',\n",
    "  'AutoStart',\n",
    "  'ContinueAsNewThenTimer',\n",
    "  'PurgeInstanceHistoryForSingleInstanceWithoutLargeMessageBlobs',\n",
    "  'ValidateCustomStatusPersists',\n",
    "  'ValidateNullCustomStatusPersists',\n",
    "  'PurgeInstanceHistoryForSingleInstanceWithLargeMessageBlobs',\n",
    "  'ParallelOrchestration',\n",
    "  'LargeFanOutOrchestration',\n",
    "  'FanOutOrchestration_LargeHistoryBatches',\n",
    "  'ActorOrchestration',\n",
    "  'ActorOrchestrationForLargeInput',\n",
    "  'ActorOrchestrationDeleteAllLargeMessageBlobs',\n",
    "  'TerminateOrchestration',\n",
    "  'SuspendResumeOrchestration',\n",
    "  'TerminateSuspendedOrchestration',\n",
    "  'RewindOrchestrationsFail',\n",
    "  'RewindActivityFailFanOut',\n",
    "  'RewindActivityFail',\n",
    "  'RewindMultipleActivityFail',\n",
    "  'RewindSubOrchestrationsTest',\n",
    "  'RewindSubOrchestrationActivityTest',\n",
    "  'RewindNestedSubOrchestrationTest',\n",
    "  'TimerCancellation',\n",
    "  'TimerExpiration',\n",
    "  'OrchestrationConcurrency',\n",
    "  'HandledActivityException',\n",
    "  'UnhandledOrchestrationException',\n",
    "  'UnhandledActivityException',\n",
    "  'FanOutToTableStorage',\n",
    "  'SmallTextMessagePayloads',\n",
    "  'LargeTableTextMessagePayloads_SizeViolation_BlobUrl',\n",
    "  'LargeOverallTextMessagePayloads_BlobUrl',\n",
    "  'LargeTextMessagePayloads_FetchLargeMessages',\n",
    "  'LargeTableTextMessagePayloads_FetchLargeMessages',\n",
    "  'TagsAreAvailableInOrchestrationState',\n",
    "  'LargeOrchestrationTags',\n",
    "  'NonBlobUriPayload_FetchLargeMessages_RetainsOriginalPayload',\n",
    "  'LargeTextMessagePayloads_FetchLargeMessages_QueryState',\n",
    "  'LargeTextMessagePayloads_URIFormatCheck',\n",
    "  'LargeBinaryByteMessagePayloads',\n",
    "  'LargeBinaryStringMessagePayloads',\n",
    "  'RecreateCompletedInstance',\n",
    "  'RecreateFailedInstance',\n",
    "  'RecreateTerminatedInstance',\n",
    "  'RecreateRunningInstance',\n",
    "  'ExtendedSessions_SessionTimeout',\n",
    "  'DoubleFanOut',\n",
    "  'AbortOrchestrationAndActivity',\n",
    "  'ScheduledStart_Inline',\n",
    "  'ScheduledStart_Activity_GetStatus_Returns_ScheduledStart',\n",
    "  'TaskReturnsVoid_OrchestratorFails',\n",
    "  'ConcurrentOrchestrationStarts',\n",
    "  'RestartOrchestrationWithExternalEvents',\n",
    "  'SingleOrchestratorWithSingleActivityAsync',\n",
    "  'SingleOrchestrationWithThrowingExceptionAsync',\n",
    "  'SingleOrchestratorWithMultipleActivitiesAsync',\n",
    "  'SubOrchestratorAsync',\n",
    "  'MultipleSubOrchestratorAsync',\n",
    "  'SingleOrchestratorWithRetryAsync',\n",
    "  'MultiLayeredOrchestrationWithRetryAsync',\n",
    "  'ContinueAsNewAsync'],\n",
    " 'alpakka': ['Akka.Streams.Azure.StorageQueue.Tests.QueueSinkSpec.A_QueueSink_should_add_elements_to_the_queue',\n",
    "  'Akka.Streams.Azure.StorageQueue.Tests.QueueSinkSpec.A_QueueSink_should_retry_failing_messages_if_supervision_strategy_is_resume',\n",
    "  'Akka.Streams.Azure.StorageQueue.Tests.QueueSourceSpecs.A_QueueSource_should_not_fail_if_the_supervision_strategy_is_not_stop_when_an_error_occurs',\n",
    "  'Akka.Streams.Azure.StorageQueue.Tests.QueueSinkSpec.A_QueueSink_should_skip_failing_messages_if_supervision_strategy_is_restart',\n",
    "  'Akka.Streams.Azure.StorageQueue.Tests.QueueSinkSpec.A_QueueSink_should_set_the_exception_of_the_task_when_an_error_occurs',\n",
    "  'Akka.Streams.Azure.StorageQueue.Tests.QueueSourceSpecs.A_QueueSource_should_only_poll_if_demand_is_available',\n",
    "  'Akka.Streams.Azure.StorageQueue.Tests.QueueSourceSpecs.A_QueueSource_should_poll_for_messages_if_the_queue_is_empty',\n",
    "  'Akka.Streams.Azure.StorageQueue.Tests.QueueSourceSpecs.A_QueueSource_should_fail_when_an_error_occurs',\n",
    "  'Akka.Streams.Azure.StorageQueue.Tests.QueueSourceSpecs.A_QueueSource_should_push_available_messages'],\n",
    " 'streamstone': ['When_disabled']}\n",
    "print(\"Discrepant results count:\")\n",
    "for k in discrepant_result_dict.keys():\n",
    "    print(f\"{k}: {len(discrepant_result_dict[k])}\")"
   ]
  },
  {
   "cell_type": "code",
   "execution_count": null,
   "metadata": {},
   "outputs": [],
   "source": [
    "# Find fixed discrepant results by intersection\n",
    "fix_discrepant_result = {}\n",
    "for k in discrepant_result_dict.keys():\n",
    "    fix_discrepant_result[k] = []\n",
    "    for test in discrepant_result_dict[k]:\n",
    "        if test in fixed_tests:\n",
    "            fix_discrepant_result[k].append(test)\n",
    "print(\"Fixed discrepant results\")\n",
    "fix_discrepant_result"
   ]
  },
  {
   "cell_type": "code",
   "execution_count": null,
   "metadata": {},
   "outputs": [],
   "source": [
    "# Get total number of fixed discrepant results\n",
    "fixed = 0\n",
    "for k in fix_discrepant_result.keys():\n",
    "    fixed += len(fix_discrepant_result[k])\n",
    "print(f'Fixed discrepant result count: {fixed}')"
   ]
  },
  {
   "cell_type": "markdown",
   "metadata": {},
   "source": [
    "## Fix two more discrepant APIs and see what happened to durabletask"
   ]
  },
  {
   "cell_type": "code",
   "execution_count": null,
   "metadata": {},
   "outputs": [],
   "source": [
    "TOTAL_TESTS = 0\n",
    "DISCREPANT_TESTS = 0\n",
    "DISCREPANT_METHODS = []\n",
    "METHODS_COUNT = {}\n",
    "TEST_METHOD_MAP = {}\n",
    "DISCREPANT_TEST_METHOD_MAP = {}\n",
    "run_all_apps()"
   ]
  },
  {
   "cell_type": "code",
   "execution_count": null,
   "metadata": {},
   "outputs": [],
   "source": [
    "# Extract fixed tests after fixing the top5 discrepant APIs\n",
    "fix_count = {k: v for k, v in METHODS_COUNT.items() if k in DISCREPANT_METHODS}\n",
    "fix_count = {k: v for k, v in sorted(fix_count.items(), key=lambda item: item[1], reverse=True)}\n",
    "fix_count_test_map = TEST_METHOD_MAP.copy()\n",
    "temp_dict = {}\n",
    "for test in fix_count_test_map.keys():\n",
    "    for method in fix_count_test_map[test]:\n",
    "        if method in DISCREPANT_METHODS:\n",
    "            temp_dict[test] = fix_count_test_map[test].copy()\n",
    "            continue\n",
    "fix_count_test_map = temp_dict\n",
    "\n",
    "\n",
    "fixed_tests = set() # Store fixed_test.\n",
    "counter = 0\n",
    "for i in fix_count.keys():\n",
    "    if i in DISCREPANT_METHODS:\n",
    "        for j in fix_count_test_map.keys():\n",
    "            while i in fix_count_test_map[j]:\n",
    "                fix_count_test_map[j].pop(fix_count_test_map[j].index(i))\n",
    "            if counter <= 7 and fix_count_test_map[j] == []:\n",
    "                fixed_tests.add(j)\n",
    "    counter += 1\n",
    "    if counter == 7: #break after 5 fixes\n",
    "        break\n"
   ]
  },
  {
   "cell_type": "code",
   "execution_count": null,
   "metadata": {},
   "outputs": [],
   "source": [
    "# Find fixed discrepant results by intersection\n",
    "fix_discrepant_result = {}\n",
    "for k in discrepant_result_dict.keys():\n",
    "    fix_discrepant_result[k] = []\n",
    "    for test in discrepant_result_dict[k]:\n",
    "        if test in fixed_tests:\n",
    "            fix_discrepant_result[k].append(test)\n",
    "print(\"Fixed discrepant results\")\n",
    "fix_discrepant_result"
   ]
  },
  {
   "cell_type": "code",
   "execution_count": null,
   "metadata": {},
   "outputs": [],
   "source": [
    "\n",
    "print('Fixed durabletask discrepant result count: ' + str(len(fix_discrepant_result['durabletask'])))"
   ]
  }
 ],
 "metadata": {
  "kernelspec": {
   "display_name": "Python 3",
   "language": "python",
   "name": "python3"
  },
  "language_info": {
   "codemirror_mode": {
    "name": "ipython",
    "version": 3
   },
   "file_extension": ".py",
   "mimetype": "text/x-python",
   "name": "python",
   "nbconvert_exporter": "python",
   "pygments_lexer": "ipython3",
   "version": "3.8.2"
  }
 },
 "nbformat": 4,
 "nbformat_minor": 2
}
